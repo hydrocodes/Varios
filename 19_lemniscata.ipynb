{
  "nbformat": 4,
  "nbformat_minor": 0,
  "metadata": {
    "colab": {
      "name": "19_lemniscata.ipynb",
      "provenance": [],
      "collapsed_sections": [],
      "include_colab_link": true
    },
    "kernelspec": {
      "name": "python3",
      "display_name": "Python 3"
    },
    "language_info": {
      "name": "python"
    }
  },
  "cells": [
    {
      "cell_type": "markdown",
      "metadata": {
        "id": "view-in-github",
        "colab_type": "text"
      },
      "source": [
        "<a href=\"https://colab.research.google.com/github/hydrocodes/Varios/blob/master/19_lemniscata.ipynb\" target=\"_parent\"><img src=\"https://colab.research.google.com/assets/colab-badge.svg\" alt=\"Open In Colab\"/></a>"
      ]
    },
    {
      "cell_type": "markdown",
      "metadata": {
        "id": "EM4SblqHTLJf"
      },
      "source": [
        "\n",
        "#**Modelos de forma en cuencas hidrograficas**<p>\n",
        "Python workshop - Basin shape models<p>\n",
        "Pedro Rau, PhD - prau@utec.edu.pe"
      ]
    },
    {
      "cell_type": "markdown",
      "metadata": {
        "id": "sVBOAMiq_Ox2"
      },
      "source": [
        "#Forma de una cuenca a través de la lemniscata equivalente (Chorley et al, 1957)\n",
        "\n",
        "\n",
        "\n",
        "---\n",
        "\n",
        "\n",
        "\n",
        "\n",
        "\n",
        "\n"
      ]
    },
    {
      "cell_type": "markdown",
      "metadata": {
        "id": "BSZv7F1XljHM"
      },
      "source": [
        "Modelar la forma de la cuenca del río Omas, el cual presenta un área de 1121 Km2 y una longitud de cuenca de 64.3 Km. Estimar el factor de forma por el método de la lemniscata equivalente e interpretar los resultados."
      ]
    },
    {
      "cell_type": "code",
      "metadata": {
        "id": "sAT_exeNiMnP",
        "colab": {
          "base_uri": "https://localhost:8080/",
          "height": 329
        },
        "outputId": "ed5da4b2-4ad7-4df8-ece9-8084ed892802"
      },
      "source": [
        "# Factor de forma de lemniscata\n",
        "import numpy as np\n",
        "import matplotlib.pyplot as plt\n",
        "\n",
        "# ingresar las variables\n",
        "A = 1121  #área en Km2\n",
        "L = 64.3  #longitud de la cuenca en Km\n",
        "\n",
        "# procesamiento\n",
        "k = (L**2)*np.pi/(4*A)\n",
        "alpha = L/np.sqrt(2)\n",
        "beta = L/k\n",
        "if k > 3: print(\"Coeficiente de lemniscata =\",k,\"es una cuenca fuertemente alargada con baja susceptibilidad a las avenidas\")\n",
        "else:\n",
        "  if k > 1.5:  print(\"Coeficiente de lemniscata =\",k,\"es una cuenca oval-redonda con susceptibilidad moderada a las avenidas\")\n",
        "  else: print(\"Coeficiente de lemniscata =\",k,\"es una cuenca casi redonda con alta susceptibilidad a las avenidas\")\n",
        "print(\"Ancho max =\",L/k,\"Km\")\n",
        "t = np.linspace(0, 2*np.pi, num=1000)\n",
        "x = alpha * np.sqrt(2) * np.cos(t) / (np.sin(t)**2 + 1)\n",
        "y = beta * np.sqrt(2) * np.cos(t) * np.sin(t) / (np.sin(t)**2 + 1) + L/(2*k)\n",
        "figure, axes = plt.subplots()\n",
        "axes.set_aspect(aspect=1)\n",
        "if k<1:\n",
        " plt.xlim(0,4*L)\n",
        " plt.ylim(0,4*L)\n",
        "else:\n",
        " plt.xlim(0,L+2)\n",
        " plt.ylim(0,L+2)\n",
        "plt.grid(linestyle='--')\n",
        "plt.plot(x,y,color=\"k\", linewidth=4)\n",
        "plt.title('Lemniscata equivalente al area y longitud de la cuenca')\n",
        "plt.xlabel(\"X (Km)\")\n",
        "plt.ylabel(\"Y (Km)\")\n",
        "plt.show()"
      ],
      "execution_count": null,
      "outputs": [
        {
          "output_type": "stream",
          "text": [
            "Coeficiente de lemniscata = 2.8967179773283815 es una cuenca oval-redonda con susceptibilidad moderada a las avenidas\n",
            "Ancho max = 22.197535453314423 Km\n"
          ],
          "name": "stdout"
        },
        {
          "output_type": "display_data",
          "data": {
            "image/png": "[encoded data removed]",
            "text/plain": [
              "<Figure size 432x288 with 1 Axes>"
            ]
          },
          "metadata": {
            "tags": [],
            "needs_background": "light"
          }
        }
      ]
    },
    {
      "cell_type": "markdown",
      "metadata": {
        "id": "xhMC4JKPWK06"
      },
      "source": [
        "#Referencias<p>\n",
        "Chorley R. J., Malm D. E. G, Pogorzelski H. A. (1957). A new standard for estimating drainage basin shape. American Journal of Sciences, 255, pp. 138-141<p>\n",
        "\n",
        "\n",
        "---\n",
        "Universidad de Ingenieria y Tecnologia UTEC - CITA"
      ]
    }
  ]
}